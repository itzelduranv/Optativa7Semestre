{
  "nbformat": 4,
  "nbformat_minor": 0,
  "metadata": {
    "colab": {
      "provenance": [],
      "authorship_tag": "ABX9TyNlosaux9bwoEgNW4B204fC",
      "include_colab_link": true
    },
    "kernelspec": {
      "name": "python3",
      "display_name": "Python 3"
    },
    "language_info": {
      "name": "python"
    }
  },
  "cells": [
    {
      "cell_type": "markdown",
      "metadata": {
        "id": "view-in-github",
        "colab_type": "text"
      },
      "source": [
        "<a href=\"https://colab.research.google.com/github/itzelduranv/Optativa7Semestre/blob/main/Uniones.ipynb\" target=\"_parent\"><img src=\"https://colab.research.google.com/assets/colab-badge.svg\" alt=\"Open In Colab\"/></a>"
      ]
    },
    {
      "cell_type": "markdown",
      "source": [
        "# **Tipos de Uniones**"
      ],
      "metadata": {
        "id": "e1p5qjX5x8Q4"
      }
    },
    {
      "cell_type": "code",
      "source": [
        "import pandas as pd"
      ],
      "metadata": {
        "id": "buJCNsczyGJu"
      },
      "execution_count": 1,
      "outputs": []
    },
    {
      "cell_type": "code",
      "source": [
        "df1 = pd.DataFrame({\n",
        "    'ID': [1, 2, 3, 4],\n",
        "    'Nombre': ['Ana', 'Juan', 'María', 'Carlos'],\n",
        "    'Departamento': ['Ventas', 'IT', 'Marketing', 'RH']\n",
        "})\n",
        "\n",
        "df2 = pd.DataFrame({\n",
        "    'ID': [3, 4, 5, 6],\n",
        "    'Salario': [50000, 60000, 55000, 65000],\n",
        "})\n",
        "\n",
        "print(df1)\n",
        "print(df2)"
      ],
      "metadata": {
        "colab": {
          "base_uri": "https://localhost:8080/"
        },
        "id": "icQ7s8zuyKWw",
        "outputId": "6a83ba7f-b9e4-4580-d020-8025d5cb962e"
      },
      "execution_count": 5,
      "outputs": [
        {
          "output_type": "stream",
          "name": "stdout",
          "text": [
            "   ID  Nombre Departamento\n",
            "0   1     Ana       Ventas\n",
            "1   2    Juan           IT\n",
            "2   3   María    Marketing\n",
            "3   4  Carlos           RH\n",
            "   ID  Salario\n",
            "0   3    50000\n",
            "1   4    60000\n",
            "2   5    55000\n",
            "3   6    65000\n"
          ]
        }
      ]
    },
    {
      "cell_type": "markdown",
      "source": [
        "## Fusión inner"
      ],
      "metadata": {
        "id": "0WpuGnAJzQec"
      }
    },
    {
      "cell_type": "code",
      "source": [
        "inner_merge = pd.merge(df1, df2, on='ID', how='inner')\n",
        "print('\\nFusión inner')\n",
        "print(inner_merge)"
      ],
      "metadata": {
        "colab": {
          "base_uri": "https://localhost:8080/"
        },
        "id": "XfQpdJWmzTyy",
        "outputId": "ec6f8742-10eb-4503-e68b-9343e9ebe51d"
      },
      "execution_count": 6,
      "outputs": [
        {
          "output_type": "stream",
          "name": "stdout",
          "text": [
            "\n",
            "Fusión inner\n",
            "   ID  Nombre Departamento  Salario\n",
            "0   3   María    Marketing    50000\n",
            "1   4  Carlos           RH    60000\n"
          ]
        }
      ]
    },
    {
      "cell_type": "markdown",
      "source": [
        "## Fusión outer"
      ],
      "metadata": {
        "id": "jGmIFPdPzrwt"
      }
    },
    {
      "cell_type": "code",
      "source": [
        "outer_merge = pd.merge(df1, df2, on='ID', how='outer')\n",
        "print('\\nFusión outer')\n",
        "print(outer_merge)"
      ],
      "metadata": {
        "colab": {
          "base_uri": "https://localhost:8080/"
        },
        "id": "hWN4xKbo0clR",
        "outputId": "54cb0d63-3660-45f1-cda4-77f950e3324c"
      },
      "execution_count": 7,
      "outputs": [
        {
          "output_type": "stream",
          "name": "stdout",
          "text": [
            "\n",
            "Fusión outer\n",
            "   ID  Nombre Departamento  Salario\n",
            "0   1     Ana       Ventas      NaN\n",
            "1   2    Juan           IT      NaN\n",
            "2   3   María    Marketing  50000.0\n",
            "3   4  Carlos           RH  60000.0\n",
            "4   5     NaN          NaN  55000.0\n",
            "5   6     NaN          NaN  65000.0\n"
          ]
        }
      ]
    },
    {
      "cell_type": "markdown",
      "source": [
        "## Fusión left"
      ],
      "metadata": {
        "id": "iQT14yvo04U-"
      }
    },
    {
      "cell_type": "code",
      "source": [
        "left_merge = pd.merge(df1, df2, on='ID', how='left')\n",
        "print('\\nFusión left')\n",
        "print(left_merge)"
      ],
      "metadata": {
        "colab": {
          "base_uri": "https://localhost:8080/"
        },
        "id": "OAFtoRZ209sU",
        "outputId": "b879940a-40a5-4e7a-a80d-0b9faf705c3a"
      },
      "execution_count": 8,
      "outputs": [
        {
          "output_type": "stream",
          "name": "stdout",
          "text": [
            "\n",
            "Fusión left\n",
            "   ID  Nombre Departamento  Salario\n",
            "0   1     Ana       Ventas      NaN\n",
            "1   2    Juan           IT      NaN\n",
            "2   3   María    Marketing  50000.0\n",
            "3   4  Carlos           RH  60000.0\n"
          ]
        }
      ]
    },
    {
      "cell_type": "markdown",
      "source": [
        "## Fusión right"
      ],
      "metadata": {
        "id": "lwnt--oj1ESm"
      }
    },
    {
      "cell_type": "code",
      "source": [
        "right_merge = pd.merge(df1, df2, on='ID', how='right')\n",
        "print('\\nFusión right')\n",
        "print(right_merge)"
      ],
      "metadata": {
        "colab": {
          "base_uri": "https://localhost:8080/"
        },
        "id": "i0_tVooS1ISG",
        "outputId": "9bdf14d1-3a25-4a74-8a22-3c4623597ba2"
      },
      "execution_count": 9,
      "outputs": [
        {
          "output_type": "stream",
          "name": "stdout",
          "text": [
            "\n",
            "Fusión right\n",
            "   ID  Nombre Departamento  Salario\n",
            "0   3   María    Marketing    50000\n",
            "1   4  Carlos           RH    60000\n",
            "2   5     NaN          NaN    55000\n",
            "3   6     NaN          NaN    65000\n"
          ]
        }
      ]
    },
    {
      "cell_type": "markdown",
      "source": [
        "## Concatenación"
      ],
      "metadata": {
        "id": "wDC47vu_1jPg"
      }
    },
    {
      "cell_type": "code",
      "source": [
        "#Concatenación\n",
        "df3 = pd.DataFrame({\n",
        "    'ID': [7,8],\n",
        "    'Nombre': ['Sofia', 'Pedro'],\n",
        "    'Departamento': ['Finanzas', 'Ventas']\n",
        "})\n",
        "\n",
        "concatenated = pd.concat([df1, df3], ignore_index=True)\n",
        "print('\\nConcatenación')\n",
        "print(concatenated)\n",
        "\n",
        "concatenated2 = pd.concat([df1, df2], ignore_index=True)\n",
        "print('\\nConcatenación 2')\n",
        "print(concatenated2)"
      ],
      "metadata": {
        "colab": {
          "base_uri": "https://localhost:8080/"
        },
        "id": "aZylW2ki1mIi",
        "outputId": "49f8310d-5c18-49d8-df8a-e89caea38243"
      },
      "execution_count": 11,
      "outputs": [
        {
          "output_type": "stream",
          "name": "stdout",
          "text": [
            "\n",
            "Concatenación\n",
            "   ID  Nombre Departamento\n",
            "0   1     Ana       Ventas\n",
            "1   2    Juan           IT\n",
            "2   3   María    Marketing\n",
            "3   4  Carlos           RH\n",
            "4   7   Sofia     Finanzas\n",
            "5   8   Pedro       Ventas\n",
            "\n",
            "Concatenación 2\n",
            "   ID  Nombre Departamento  Salario\n",
            "0   1     Ana       Ventas      NaN\n",
            "1   2    Juan           IT      NaN\n",
            "2   3   María    Marketing      NaN\n",
            "3   4  Carlos           RH      NaN\n",
            "4   3     NaN          NaN  50000.0\n",
            "5   4     NaN          NaN  60000.0\n",
            "6   5     NaN          NaN  55000.0\n",
            "7   6     NaN          NaN  65000.0\n"
          ]
        }
      ]
    },
    {
      "cell_type": "markdown",
      "source": [],
      "metadata": {
        "id": "1Ne4D_pr2iOF"
      }
    }
  ]
}