{
  "nbformat": 4,
  "nbformat_minor": 0,
  "metadata": {
    "colab": {
      "provenance": [],
      "authorship_tag": "ABX9TyOAajhkNZLefFOffc0l+aIA",
      "include_colab_link": true
    },
    "kernelspec": {
      "name": "python3",
      "display_name": "Python 3"
    },
    "language_info": {
      "name": "python"
    }
  },
  "cells": [
    {
      "cell_type": "markdown",
      "metadata": {
        "id": "view-in-github",
        "colab_type": "text"
      },
      "source": [
        "<a href=\"https://colab.research.google.com/github/itzelduranv/Optativa7Semestre/blob/main/OperacionesB%C3%A1sicas.ipynb\" target=\"_parent\"><img src=\"https://colab.research.google.com/assets/colab-badge.svg\" alt=\"Open In Colab\"/></a>"
      ]
    },
    {
      "cell_type": "code",
      "execution_count": 1,
      "metadata": {
        "id": "yWiUpqrvvaNX"
      },
      "outputs": [],
      "source": [
        "import pandas as pd"
      ]
    },
    {
      "cell_type": "markdown",
      "source": [
        "# **Operaciones Básicas**"
      ],
      "metadata": {
        "id": "e-liBzNIyfzM"
      }
    },
    {
      "cell_type": "markdown",
      "source": [
        "## Crear DataFrame de Ejemplo"
      ],
      "metadata": {
        "id": "i2HlRWTXvdQf"
      }
    },
    {
      "cell_type": "code",
      "source": [
        "df = pd.DataFrame({\n",
        "    'Nombre': ['Ana', 'Juan', 'María', 'Carlos', 'Sofía'],\n",
        "    'Edad': [25, 30, 22, 28, 35],\n",
        "    'Ciudad': ['Madrid', 'Barcelona', 'Madrid', 'Valencia', 'Barcelona'],\n",
        "    'Puntuación': [85, 92, 78, 95, 88],\n",
        "})\n",
        "\n",
        "print(\"DataFrame original:\")\n",
        "print(df)"
      ],
      "metadata": {
        "colab": {
          "base_uri": "https://localhost:8080/"
        },
        "id": "3rf1w4e5vh0c",
        "outputId": "efc65cb1-fa7b-403f-b021-74d7cc041afd"
      },
      "execution_count": 2,
      "outputs": [
        {
          "output_type": "stream",
          "name": "stdout",
          "text": [
            "DataFrame original:\n",
            "   Nombre  Edad     Ciudad  Puntuación\n",
            "0     Ana    25     Madrid          85\n",
            "1    Juan    30  Barcelona          92\n",
            "2   María    22     Madrid          78\n",
            "3  Carlos    28   Valencia          95\n",
            "4   Sofía    35  Barcelona          88\n"
          ]
        }
      ]
    },
    {
      "cell_type": "markdown",
      "source": [
        "## Filtrado"
      ],
      "metadata": {
        "id": "BLADBxPJwrcF"
      }
    },
    {
      "cell_type": "code",
      "source": [
        "mayores_25 = df[df['Edad'] > 25]\n",
        "print(\"\\nPersonas mayores de 25 años:\")\n",
        "print(mayores_25)"
      ],
      "metadata": {
        "colab": {
          "base_uri": "https://localhost:8080/"
        },
        "id": "fFedQCxQwts9",
        "outputId": "223b8fd7-f878-49ef-d3a4-b4f7fc79d7b8"
      },
      "execution_count": 3,
      "outputs": [
        {
          "output_type": "stream",
          "name": "stdout",
          "text": [
            "\n",
            "Personas mayores de 25 años:\n",
            "   Nombre  Edad     Ciudad  Puntuación\n",
            "1    Juan    30  Barcelona          92\n",
            "3  Carlos    28   Valencia          95\n",
            "4   Sofía    35  Barcelona          88\n"
          ]
        }
      ]
    },
    {
      "cell_type": "markdown",
      "source": [
        "## Agrupación y agregación"
      ],
      "metadata": {
        "id": "pGJ6MtQlxVOL"
      }
    },
    {
      "cell_type": "code",
      "source": [
        "resultado = df[df['Edad']>25].groupby('Ciudad')['Puntuación'].max()\n",
        "print(\"\\nMáxima puntuación por ciudad para personas mayores de 25 años:\")\n",
        "print(resultado)"
      ],
      "metadata": {
        "colab": {
          "base_uri": "https://localhost:8080/"
        },
        "id": "tjFHvlopxaEx",
        "outputId": "23ec93c8-4a6a-42a5-d6fa-0ce75ebc36bc"
      },
      "execution_count": 4,
      "outputs": [
        {
          "output_type": "stream",
          "name": "stdout",
          "text": [
            "\n",
            "Máxima puntuación por ciudad para personas mayores de 25 años:\n",
            "Ciudad\n",
            "Barcelona    92\n",
            "Valencia     95\n",
            "Name: Puntuación, dtype: int64\n"
          ]
        }
      ]
    }
  ]
}