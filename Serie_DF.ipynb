{
  "nbformat": 4,
  "nbformat_minor": 0,
  "metadata": {
    "colab": {
      "provenance": [],
      "authorship_tag": "ABX9TyNvUiS/4ihlKqu9EtXPEcKl",
      "include_colab_link": true
    },
    "kernelspec": {
      "name": "python3",
      "display_name": "Python 3"
    },
    "language_info": {
      "name": "python"
    }
  },
  "cells": [
    {
      "cell_type": "markdown",
      "metadata": {
        "id": "view-in-github",
        "colab_type": "text"
      },
      "source": [
        "<a href=\"https://colab.research.google.com/github/itzelduranv/Optativa7Semestre/blob/main/Serie_DF.ipynb\" target=\"_parent\"><img src=\"https://colab.research.google.com/assets/colab-badge.svg\" alt=\"Open In Colab\"/></a>"
      ]
    },
    {
      "cell_type": "code",
      "execution_count": null,
      "metadata": {
        "id": "bRx30ZDjSzK-"
      },
      "outputs": [],
      "source": []
    },
    {
      "cell_type": "markdown",
      "source": [
        "# **Ejercicio 1**"
      ],
      "metadata": {
        "id": "cdovkBISS0Kf"
      }
    },
    {
      "cell_type": "code",
      "source": [
        "import pandas as pd\n",
        "import numpy as np"
      ],
      "metadata": {
        "id": "1sRUJdX4S_OR"
      },
      "execution_count": null,
      "outputs": []
    },
    {
      "cell_type": "markdown",
      "source": [
        "### Crear una serie"
      ],
      "metadata": {
        "id": "_4EUq2vhTC5Y"
      }
    },
    {
      "cell_type": "code",
      "source": [
        "s = pd.Series([1, 3, 5, np.nan, 6, 8])\n",
        "print(\"Serie: \")\n",
        "print(s)"
      ],
      "metadata": {
        "colab": {
          "base_uri": "https://localhost:8080/"
        },
        "id": "1oMguZRtTEiX",
        "outputId": "aa726ed1-9b4b-4de0-acf1-354dbb33fef2"
      },
      "execution_count": null,
      "outputs": [
        {
          "output_type": "stream",
          "name": "stdout",
          "text": [
            "Serie: \n",
            "0    1.0\n",
            "1    3.0\n",
            "2    5.0\n",
            "3    NaN\n",
            "4    6.0\n",
            "5    8.0\n",
            "dtype: float64\n"
          ]
        }
      ]
    },
    {
      "cell_type": "code",
      "source": [
        "df = pd.DataFrame({\n",
        "    'A': [1, 2, 3, 4],\n",
        "    'B': pd.Timestamp('20230101'),\n",
        "    'C': pd.Series(1, index=list(range(4)), dtype='float32'),\n",
        "    'D': np.array([3] * 4, dtype='int32'),\n",
        "    'E': pd.Categorical([\"test\", \"train\", \"test\", \"train\"]),\n",
        "    'F': 'foo'\n",
        "})\n",
        "\n",
        "print(\"\\nDataFrame:\")\n",
        "print(df)"
      ],
      "metadata": {
        "colab": {
          "base_uri": "https://localhost:8080/"
        },
        "id": "lUTtgFxdT7iU",
        "outputId": "b83d3e38-ef62-4392-a5dd-2429c62654c0"
      },
      "execution_count": 5,
      "outputs": [
        {
          "output_type": "stream",
          "name": "stdout",
          "text": [
            "\n",
            "DataFrame:\n",
            "   A          B    C  D      E    F\n",
            "0  1 2023-01-01  1.0  3   test  foo\n",
            "1  2 2023-01-01  1.0  3  train  foo\n",
            "2  3 2023-01-01  1.0  3   test  foo\n",
            "3  4 2023-01-01  1.0  3  train  foo\n"
          ]
        }
      ]
    },
    {
      "cell_type": "markdown",
      "source": [
        "### Explorar el DataFrame"
      ],
      "metadata": {
        "id": "KJI0IHY6Vz3K"
      }
    },
    {
      "cell_type": "code",
      "source": [
        "print(\"\\nTipos de datos:\")\n",
        "print(df.dtypes)\n",
        "print(\"\\nPrimeras 2 filas:\")\n",
        "print(df.head(2))\n",
        "print(\"\\nÚltimas 2 filas:\")\n",
        "print(df.tail(2))\n",
        "print(\"\\nEstadísticas básicas:\")\n",
        "print(df.describe())"
      ],
      "metadata": {
        "colab": {
          "base_uri": "https://localhost:8080/"
        },
        "id": "CN8hPkdKV40u",
        "outputId": "0e1a6e5d-13cc-4f7e-bba7-182e38417efa"
      },
      "execution_count": 6,
      "outputs": [
        {
          "output_type": "stream",
          "name": "stdout",
          "text": [
            "\n",
            "Tipos de datos:\n",
            "A            int64\n",
            "B    datetime64[s]\n",
            "C          float32\n",
            "D            int32\n",
            "E         category\n",
            "F           object\n",
            "dtype: object\n",
            "\n",
            "Primeras 2 filas:\n",
            "   A          B    C  D      E    F\n",
            "0  1 2023-01-01  1.0  3   test  foo\n",
            "1  2 2023-01-01  1.0  3  train  foo\n",
            "\n",
            "Últimas 2 filas:\n",
            "   A          B    C  D      E    F\n",
            "2  3 2023-01-01  1.0  3   test  foo\n",
            "3  4 2023-01-01  1.0  3  train  foo\n",
            "\n",
            "Estadísticas básicas:\n",
            "              A                    B    C    D\n",
            "count  4.000000                    4  4.0  4.0\n",
            "mean   2.500000  2023-01-01 00:00:00  1.0  3.0\n",
            "min    1.000000  2023-01-01 00:00:00  1.0  3.0\n",
            "25%    1.750000  2023-01-01 00:00:00  1.0  3.0\n",
            "50%    2.500000  2023-01-01 00:00:00  1.0  3.0\n",
            "75%    3.250000  2023-01-01 00:00:00  1.0  3.0\n",
            "max    4.000000  2023-01-01 00:00:00  1.0  3.0\n",
            "std    1.290994                  NaN  0.0  0.0\n"
          ]
        }
      ]
    }
  ]
}